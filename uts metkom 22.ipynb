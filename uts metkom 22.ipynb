{
 "cells": [
  {
   "cell_type": "markdown",
   "id": "fbe799c7",
   "metadata": {},
   "source": [
    "```nomor 1```"
   ]
  },
  {
   "cell_type": "code",
   "execution_count": 1,
   "id": "352b770f",
   "metadata": {},
   "outputs": [
    {
     "name": "stdout",
     "output_type": "stream",
     "text": [
      "1\n",
      "3\n",
      "5\n",
      "7\n",
      "9\n",
      "11\n"
     ]
    }
   ],
   "source": [
    "odds = [1,3,5,7,9,11]\n",
    "#buatlah perintah yg menghasilkan output seperti di layar\n",
    "for x in odds:\n",
    "    print(x)"
   ]
  },
  {
   "cell_type": "markdown",
   "id": "caf206e8",
   "metadata": {},
   "source": [
    "```nomor 2 ```"
   ]
  },
  {
   "cell_type": "code",
   "execution_count": 76,
   "id": "b27e2c99",
   "metadata": {},
   "outputs": [
    {
     "name": "stdout",
     "output_type": "stream",
     "text": [
      "97\n"
     ]
    }
   ],
   "source": [
    "x = 5\n",
    "coefs = [2,4,3]\n",
    "\n",
    "for idx, coef in enumerate (coefs):\n",
    "    y = coefs[0]*x**0 + coefs[1]*x**1+ coefs[2]*x**2\n",
    "print(y)"
   ]
  },
  {
   "cell_type": "markdown",
   "id": "1e50ce2b",
   "metadata": {},
   "source": [
    "```nomor 3```"
   ]
  },
  {
   "cell_type": "code",
   "execution_count": 6,
   "id": "fd1134a1",
   "metadata": {},
   "outputs": [
    {
     "name": "stdout",
     "output_type": "stream",
     "text": [
      "a :  -1 b :  2 c :  6\n"
     ]
    }
   ],
   "source": [
    "def func (a, b=3, c=6):\n",
    "    print('a : ', a, 'b : ', b, 'c : ', c)\n",
    "func(-1,2)"
   ]
  },
  {
   "cell_type": "markdown",
   "id": "50168559",
   "metadata": {},
   "source": [
    "```nomor 4```"
   ]
  },
  {
   "cell_type": "code",
   "execution_count": 9,
   "id": "6d91cb53",
   "metadata": {},
   "outputs": [
    {
     "name": "stdout",
     "output_type": "stream",
     "text": [
      "259.81666666666666\n",
      "278.15\n",
      "273.15\n",
      "0\n"
     ]
    }
   ],
   "source": [
    "f = 0\n",
    "k = 0\n",
    "\n",
    "def f2k(f):\n",
    "    k=((f-32)*(5.0/9.0)) + 273.15\n",
    "    return k\n",
    "    \n",
    "print(f2k(8))\n",
    "print(f2k(41))\n",
    "print(f2k(32))\n",
    "print(k)"
   ]
  },
  {
   "cell_type": "markdown",
   "id": "bae177fe",
   "metadata": {},
   "source": [
    "```nomor 5```"
   ]
  },
  {
   "cell_type": "code",
   "execution_count": 7,
   "id": "e2efa085",
   "metadata": {},
   "outputs": [
    {
     "name": "stdout",
     "output_type": "stream",
     "text": [
      "primes : [3, 5, 7, 2]\n",
      "odds : [3, 5, 7]\n"
     ]
    }
   ],
   "source": [
    "odds = [3,5,7]\n",
    "primes = list(odds)\n",
    "primes.append(2)\n",
    "print('primes :', primes)\n",
    "print('odds :', odds)"
   ]
  },
  {
   "cell_type": "markdown",
   "id": "4a81c445",
   "metadata": {},
   "source": [
    "list = bisa diakses bisa diubah, mutable, bisa direpeat []\n",
    "\n",
    "set = sama persis tapi gabisa repeat ()\n",
    "\n",
    "dict = bisa ada index sama value, misal dict = {'nama':siapa, dst}, changeable\n",
    "\n",
    "tuple = isinya gabisa diganti, gabisa diappend"
   ]
  },
  {
   "cell_type": "markdown",
   "id": "ae1e1561",
   "metadata": {},
   "source": [
    "```nomor 6```"
   ]
  },
  {
   "cell_type": "code",
   "execution_count": 13,
   "id": "9ecacded",
   "metadata": {},
   "outputs": [
    {
     "name": "stdout",
     "output_type": "stream",
     "text": [
      "[2, 4, 6, 8, 10, 2, 4, 6, 8, 10]\n"
     ]
    }
   ],
   "source": [
    "counts = [2,4,6,8,10]\n",
    "repeats = counts*2\n",
    "print(repeats)"
   ]
  },
  {
   "cell_type": "markdown",
   "id": "decdae77",
   "metadata": {},
   "source": [
    "UTS 2018"
   ]
  },
  {
   "cell_type": "code",
   "execution_count": 68,
   "id": "330d3738",
   "metadata": {},
   "outputs": [
    {
     "name": "stdout",
     "output_type": "stream",
     "text": [
      "37\n"
     ]
    }
   ],
   "source": [
    "#Nomor 3\n",
    "numbers = [1,3,4,5,7,8,9]\n",
    "sum = 0\n",
    "for number in numbers:\n",
    "    sum = sum + number\n",
    "print(sum)"
   ]
  },
  {
   "cell_type": "code",
   "execution_count": 77,
   "metadata": {},
   "outputs": [
    {
     "name": "stdout",
     "output_type": "stream",
     "text": [
      "V(6.0) = 9.681472514601717\n"
     ]
    }
   ],
   "source": [
    "#Nomor 4\n",
    "import math\n",
    "\n",
    "def calculate_potential(x, M, h, a, H):\n",
    "    \n",
    "    V = M * math.log((x**2 + h**2) / ((x - a)**2 + H**2))\n",
    "    return V\n",
    "\n",
    "# Contoh penggunaan fungsi:\n",
    "x = 6.0\n",
    "M = 4.0\n",
    "h = 3.0\n",
    "a = 6.0\n",
    "H = 2.0\n",
    "\n",
    "result = calculate_potential(x, M, h, a, H)\n",
    "print(f\"V({x}) = {result}\")"
   ]
  }
 ],
 "metadata": {
  "kernelspec": {
   "display_name": "Python 3 (ipykernel)",
   "language": "python",
   "name": "python3"
  },
  "language_info": {
   "codemirror_mode": {
    "name": "ipython",
    "version": 3
   },
   "file_extension": ".py",
   "mimetype": "text/x-python",
   "name": "python",
   "nbconvert_exporter": "python",
   "pygments_lexer": "ipython3",
   "version": "3.11.4"
  }
 },
 "nbformat": 4,
 "nbformat_minor": 5
}
